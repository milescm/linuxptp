{
 "cells": [
  {
   "cell_type": "code",
   "execution_count": 3,
   "metadata": {},
   "outputs": [],
   "source": [
    "import pandas as pd"
   ]
  },
  {
   "cell_type": "code",
   "execution_count": 4,
   "metadata": {},
   "outputs": [
    {
     "name": "stdout",
     "output_type": "stream",
     "text": [
      "Input file Name : abc.txt --> abc\n",
      "Input file name : ptpTime5min_1\n"
     ]
    }
   ],
   "source": [
    "# read text file\n",
    "\n",
    "print(\"Input file Name : abc.txt --> abc\")\n",
    "\n",
    "txtfileName = input('Input file name : ')\n",
    "\n",
    "# File Path must be modified.\n",
    "\n",
    "f = open('../f_txt/%s.txt' %txtfileName, 'r')\n",
    "\n",
    "# read line, split Str\n",
    "\n",
    "\n",
    "tmp_str = []\n",
    "\n",
    "while True:\n",
    "    line = f.readline()\n",
    "    if not line: break\n",
    "    tmp_str.append(line.split())   "
   ]
  },
  {
   "cell_type": "code",
   "execution_count": 5,
   "metadata": {},
   "outputs": [],
   "source": [
    "# Make series for concat value\n",
    "\n",
    "offset = pd.DataFrame(tmp_str)[3]\n",
    "freq = pd.DataFrame(tmp_str)[6]\n",
    "delay = pd.DataFrame(tmp_str)[9]"
   ]
  },
  {
   "cell_type": "code",
   "execution_count": 6,
   "metadata": {},
   "outputs": [],
   "source": [
    "# make table\n",
    "\n",
    "df = pd.concat([offset,freq,delay],axis=1, keys=['Master Offset', 'Frequency', 'Path Delay'])"
   ]
  },
  {
   "cell_type": "code",
   "execution_count": 7,
   "metadata": {
    "scrolled": true
   },
   "outputs": [],
   "source": [
    "# Delete row has null value\n",
    "\n",
    "df.isnull().sum()\n",
    "df.dropna(inplace=True)\n",
    "df = df.reset_index(drop=True)"
   ]
  },
  {
   "cell_type": "code",
   "execution_count": 8,
   "metadata": {},
   "outputs": [],
   "source": [
    "#convert str to int\n",
    "\n",
    "df = df.astype({'Master Offset': 'int'})\n",
    "df = df.astype({'Frequency': 'int'})\n",
    "df = df.astype({'Path Delay': 'int'})"
   ]
  },
  {
   "cell_type": "code",
   "execution_count": 9,
   "metadata": {},
   "outputs": [],
   "source": [
    "# Add abs master offset column to df\n",
    "\n",
    "absMasterOffset = []\n",
    "\n",
    "absMasterOffset = df['Master Offset'].abs()\n",
    "\n",
    "df['Abs Master Offset'] = absMasterOffset"
   ]
  },
  {
   "cell_type": "code",
   "execution_count": 15,
   "metadata": {},
   "outputs": [
    {
     "name": "stdout",
     "output_type": "stream",
     "text": [
      "ptpTime5min_1.txt = Convergence index : 68  Master Offset : -338\n"
     ]
    }
   ],
   "source": [
    "# Find the convergence index, master offset\n",
    "\n",
    "cnt = 0\n",
    "index = 0\n",
    "for i in df['Abs Master Offset']:\n",
    "    if(cnt > 11):\n",
    "        print(\"%s.txt =\" %txtfileName,\"Convergence index :\", index , \" Master Offset :\", df['Master Offset'][index])\n",
    "        break\n",
    "    else:\n",
    "        if(i <= 1000):\n",
    "            cnt += 1\n",
    "        else:\n",
    "            if(cnt < 0):\n",
    "                cnt = 0\n",
    "            else:\n",
    "                cnt -= 1\n",
    "    index+=1"
   ]
  },
  {
   "cell_type": "code",
   "execution_count": null,
   "metadata": {},
   "outputs": [],
   "source": []
  }
 ],
 "metadata": {
  "kernelspec": {
   "display_name": "Python 3",
   "language": "python",
   "name": "python3"
  },
  "language_info": {
   "codemirror_mode": {
    "name": "ipython",
    "version": 3
   },
   "file_extension": ".py",
   "mimetype": "text/x-python",
   "name": "python",
   "nbconvert_exporter": "python",
   "pygments_lexer": "ipython3",
   "version": "3.6.9"
  }
 },
 "nbformat": 4,
 "nbformat_minor": 4
}
