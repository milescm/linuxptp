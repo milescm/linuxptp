{
 "cells": [
  {
   "cell_type": "code",
   "execution_count": 3,
   "metadata": {},
   "outputs": [],
   "source": [
    "import pandas as pd\n",
    "import json\n",
    "import os"
   ]
  },
  {
   "cell_type": "code",
   "execution_count": 4,
   "metadata": {
    "scrolled": false
   },
   "outputs": [
    {
     "name": "stdout",
     "output_type": "stream",
     "text": [
      "Input file Name : abc.json --> abc\n",
      "Input file name: ptpTime5min_1\n"
     ]
    }
   ],
   "source": [
    "print(\"Input file Name : abc.json --> abc\")\n",
    "\n",
    "jsonfileName = input('Input file name: ')\n",
    "\n",
    "# File Path must be modified.\n",
    "\n",
    "data = pd.read_json('../f_json/%s.json' %jsonfileName, lines=True)"
   ]
  },
  {
   "cell_type": "code",
   "execution_count": 5,
   "metadata": {
    "scrolled": true
   },
   "outputs": [
    {
     "data": {
      "text/plain": [
       "pandas.core.frame.DataFrame"
      ]
     },
     "execution_count": 5,
     "metadata": {},
     "output_type": "execute_result"
    }
   ],
   "source": [
    "type(data)"
   ]
  },
  {
   "cell_type": "code",
   "execution_count": 6,
   "metadata": {},
   "outputs": [],
   "source": [
    "# drop the column 1\n",
    "\n",
    "data.drop(['__CURSOR', '_BOOT_ID', '_TRANSPORT', '_SYSTEMD_INVOCATION_ID','_MACHINE_ID', '_HOSTNAME','_SYSTEMD_OWNER_UID','_SYSTEMD_USER_SLICE','_SYSTEMD_USER_UNIT'], axis= 'columns', inplace=True)"
   ]
  },
  {
   "cell_type": "code",
   "execution_count": 7,
   "metadata": {
    "scrolled": true
   },
   "outputs": [],
   "source": [
    "# drop the column 2\n",
    "\n",
    "data.drop(['_EXE', '_CMDLINE', '_CAP_EFFECTIVE','_SELINUX_CONTEXT','_AUDIT_SESSION','_AUDIT_LOGINUID', '_SYSTEMD_CGROUP','_SYSTEMD_UNIT', '_SYSTEMD_SLICE','PRIORITY' ], axis='columns', inplace=True)"
   ]
  },
  {
   "cell_type": "code",
   "execution_count": 8,
   "metadata": {},
   "outputs": [],
   "source": [
    "# drop the column 3\n",
    "\n",
    "data.drop(['_UID','SYSLOG_FACILITY','SYSLOG_IDENTIFIER','_GID','_COMM','_PID','_SOURCE_REALTIME_TIMESTAMP'], axis='columns', inplace=True)"
   ]
  },
  {
   "cell_type": "code",
   "execution_count": 9,
   "metadata": {},
   "outputs": [],
   "source": [
    "# split the message\n",
    "\n",
    "delete_msg = []\n",
    "for i in data['MESSAGE']:\n",
    "    delete_msg.append(i.split())"
   ]
  },
  {
   "cell_type": "code",
   "execution_count": 10,
   "metadata": {},
   "outputs": [],
   "source": [
    "# Make pandas data frame (['MESSAGE'])\n",
    "\n",
    "dm = pd.DataFrame(delete_msg)"
   ]
  },
  {
   "cell_type": "code",
   "execution_count": 11,
   "metadata": {},
   "outputs": [],
   "source": [
    "# find the system log message, index\n",
    "\n",
    "cnt = 0\n",
    "delete_rownum = []\n",
    "for i in dm[1]:\n",
    "    if(i!='master'):\n",
    "        delete_rownum.append(cnt)\n",
    "    cnt+=1"
   ]
  },
  {
   "cell_type": "code",
   "execution_count": 12,
   "metadata": {},
   "outputs": [],
   "source": [
    "# delete row has system log message\n",
    "\n",
    "dm = dm.drop(delete_rownum)\n",
    "dm = dm.reset_index(drop=True)\n",
    "\n",
    "data = data.drop(delete_rownum)\n",
    "data = data.reset_index(drop=True)"
   ]
  },
  {
   "cell_type": "code",
   "execution_count": 13,
   "metadata": {},
   "outputs": [],
   "source": [
    "# Make series to table value\n",
    "\n",
    "offset = pd.DataFrame(dm)[3]\n",
    "freq = pd.DataFrame(dm)[6]\n",
    "delay = pd.DataFrame(dm)[9]\n",
    "\n",
    "df = pd.concat([offset,freq,delay],axis=1, keys=['Master Offset', 'Frequency', 'Path Delay'])"
   ]
  },
  {
   "cell_type": "code",
   "execution_count": 14,
   "metadata": {},
   "outputs": [],
   "source": [
    "# drop the column for concat original value\n",
    "\n",
    "data.drop(['MESSAGE'], axis='columns', inplace=True)"
   ]
  },
  {
   "cell_type": "code",
   "execution_count": 15,
   "metadata": {},
   "outputs": [],
   "source": [
    "# concat two pandas data frame\n",
    "\n",
    "finalDf = pd.concat([data,df], axis=1)"
   ]
  },
  {
   "cell_type": "code",
   "execution_count": 16,
   "metadata": {},
   "outputs": [],
   "source": [
    "#convert str to int\n",
    "\n",
    "finalDf = finalDf.astype({'Master Offset': 'int'})\n",
    "finalDf = finalDf.astype({'Frequency': 'int'})\n",
    "finalDf = finalDf.astype({'Path Delay': 'int'})"
   ]
  },
  {
   "cell_type": "code",
   "execution_count": 17,
   "metadata": {
    "scrolled": false
   },
   "outputs": [
    {
     "data": {
      "text/html": [
       "<div>\n",
       "<style scoped>\n",
       "    .dataframe tbody tr th:only-of-type {\n",
       "        vertical-align: middle;\n",
       "    }\n",
       "\n",
       "    .dataframe tbody tr th {\n",
       "        vertical-align: top;\n",
       "    }\n",
       "\n",
       "    .dataframe thead th {\n",
       "        text-align: right;\n",
       "    }\n",
       "</style>\n",
       "<table border=\"1\" class=\"dataframe\">\n",
       "  <thead>\n",
       "    <tr style=\"text-align: right;\">\n",
       "      <th></th>\n",
       "      <th>__REALTIME_TIMESTAMP</th>\n",
       "      <th>__MONOTONIC_TIMESTAMP</th>\n",
       "      <th>Master Offset</th>\n",
       "      <th>Frequency</th>\n",
       "      <th>Path Delay</th>\n",
       "    </tr>\n",
       "  </thead>\n",
       "  <tbody>\n",
       "    <tr>\n",
       "      <th>count</th>\n",
       "      <td>2.730000e+02</td>\n",
       "      <td>2.730000e+02</td>\n",
       "      <td>273.000000</td>\n",
       "      <td>273.000000</td>\n",
       "      <td>273.000000</td>\n",
       "    </tr>\n",
       "    <tr>\n",
       "      <th>mean</th>\n",
       "      <td>1.595382e+15</td>\n",
       "      <td>1.417971e+11</td>\n",
       "      <td>3390.871795</td>\n",
       "      <td>19564.963370</td>\n",
       "      <td>24774.747253</td>\n",
       "    </tr>\n",
       "    <tr>\n",
       "      <th>std</th>\n",
       "      <td>7.901752e+07</td>\n",
       "      <td>7.901752e+07</td>\n",
       "      <td>38791.913546</td>\n",
       "      <td>4491.707441</td>\n",
       "      <td>743.586751</td>\n",
       "    </tr>\n",
       "    <tr>\n",
       "      <th>min</th>\n",
       "      <td>1.595382e+15</td>\n",
       "      <td>1.416610e+11</td>\n",
       "      <td>-21752.000000</td>\n",
       "      <td>-2238.000000</td>\n",
       "      <td>20654.000000</td>\n",
       "    </tr>\n",
       "    <tr>\n",
       "      <th>25%</th>\n",
       "      <td>1.595382e+15</td>\n",
       "      <td>1.417291e+11</td>\n",
       "      <td>-729.000000</td>\n",
       "      <td>19033.000000</td>\n",
       "      <td>24755.000000</td>\n",
       "    </tr>\n",
       "    <tr>\n",
       "      <th>50%</th>\n",
       "      <td>1.595382e+15</td>\n",
       "      <td>1.417971e+11</td>\n",
       "      <td>-107.000000</td>\n",
       "      <td>19545.000000</td>\n",
       "      <td>24878.000000</td>\n",
       "    </tr>\n",
       "    <tr>\n",
       "      <th>75%</th>\n",
       "      <td>1.595382e+15</td>\n",
       "      <td>1.418652e+11</td>\n",
       "      <td>607.000000</td>\n",
       "      <td>20164.000000</td>\n",
       "      <td>24970.000000</td>\n",
       "    </tr>\n",
       "    <tr>\n",
       "      <th>max</th>\n",
       "      <td>1.595383e+15</td>\n",
       "      <td>1.419333e+11</td>\n",
       "      <td>453555.000000</td>\n",
       "      <td>40744.000000</td>\n",
       "      <td>27121.000000</td>\n",
       "    </tr>\n",
       "  </tbody>\n",
       "</table>\n",
       "</div>"
      ],
      "text/plain": [
       "       __REALTIME_TIMESTAMP  __MONOTONIC_TIMESTAMP  Master Offset  \\\n",
       "count          2.730000e+02           2.730000e+02     273.000000   \n",
       "mean           1.595382e+15           1.417971e+11    3390.871795   \n",
       "std            7.901752e+07           7.901752e+07   38791.913546   \n",
       "min            1.595382e+15           1.416610e+11  -21752.000000   \n",
       "25%            1.595382e+15           1.417291e+11    -729.000000   \n",
       "50%            1.595382e+15           1.417971e+11    -107.000000   \n",
       "75%            1.595382e+15           1.418652e+11     607.000000   \n",
       "max            1.595383e+15           1.419333e+11  453555.000000   \n",
       "\n",
       "          Frequency    Path Delay  \n",
       "count    273.000000    273.000000  \n",
       "mean   19564.963370  24774.747253  \n",
       "std     4491.707441    743.586751  \n",
       "min    -2238.000000  20654.000000  \n",
       "25%    19033.000000  24755.000000  \n",
       "50%    19545.000000  24878.000000  \n",
       "75%    20164.000000  24970.000000  \n",
       "max    40744.000000  27121.000000  "
      ]
     },
     "execution_count": 17,
     "metadata": {},
     "output_type": "execute_result"
    }
   ],
   "source": [
    "finalDf.describe()"
   ]
  },
  {
   "cell_type": "code",
   "execution_count": 18,
   "metadata": {},
   "outputs": [],
   "source": [
    "# Drop the columns option 1 : columns has \"CODE_LINE\", \"SYSLOG_PID\"\n",
    "\n",
    "# finalDf.drop(['CODE_LINE','SYSLOG_PID'],axis='columns',inplace=True)"
   ]
  },
  {
   "cell_type": "code",
   "execution_count": 19,
   "metadata": {},
   "outputs": [],
   "source": [
    "# Check! Data has null\n",
    "\n",
    "#finalDf.isnull().sum()"
   ]
  },
  {
   "cell_type": "code",
   "execution_count": 20,
   "metadata": {
    "scrolled": true
   },
   "outputs": [
    {
     "data": {
      "text/html": [
       "<div>\n",
       "<style scoped>\n",
       "    .dataframe tbody tr th:only-of-type {\n",
       "        vertical-align: middle;\n",
       "    }\n",
       "\n",
       "    .dataframe tbody tr th {\n",
       "        vertical-align: top;\n",
       "    }\n",
       "\n",
       "    .dataframe thead th {\n",
       "        text-align: right;\n",
       "    }\n",
       "</style>\n",
       "<table border=\"1\" class=\"dataframe\">\n",
       "  <thead>\n",
       "    <tr style=\"text-align: right;\">\n",
       "      <th></th>\n",
       "      <th>__REALTIME_TIMESTAMP</th>\n",
       "      <th>__MONOTONIC_TIMESTAMP</th>\n",
       "      <th>Master Offset</th>\n",
       "      <th>Frequency</th>\n",
       "      <th>Path Delay</th>\n",
       "    </tr>\n",
       "  </thead>\n",
       "  <tbody>\n",
       "    <tr>\n",
       "      <th>count</th>\n",
       "      <td>2.730000e+02</td>\n",
       "      <td>2.730000e+02</td>\n",
       "      <td>273.000000</td>\n",
       "      <td>273.000000</td>\n",
       "      <td>273.000000</td>\n",
       "    </tr>\n",
       "    <tr>\n",
       "      <th>mean</th>\n",
       "      <td>1.595382e+15</td>\n",
       "      <td>1.417971e+11</td>\n",
       "      <td>3390.871795</td>\n",
       "      <td>19564.963370</td>\n",
       "      <td>24774.747253</td>\n",
       "    </tr>\n",
       "    <tr>\n",
       "      <th>std</th>\n",
       "      <td>7.901752e+07</td>\n",
       "      <td>7.901752e+07</td>\n",
       "      <td>38791.913546</td>\n",
       "      <td>4491.707441</td>\n",
       "      <td>743.586751</td>\n",
       "    </tr>\n",
       "    <tr>\n",
       "      <th>min</th>\n",
       "      <td>1.595382e+15</td>\n",
       "      <td>1.416610e+11</td>\n",
       "      <td>-21752.000000</td>\n",
       "      <td>-2238.000000</td>\n",
       "      <td>20654.000000</td>\n",
       "    </tr>\n",
       "    <tr>\n",
       "      <th>25%</th>\n",
       "      <td>1.595382e+15</td>\n",
       "      <td>1.417291e+11</td>\n",
       "      <td>-729.000000</td>\n",
       "      <td>19033.000000</td>\n",
       "      <td>24755.000000</td>\n",
       "    </tr>\n",
       "    <tr>\n",
       "      <th>50%</th>\n",
       "      <td>1.595382e+15</td>\n",
       "      <td>1.417971e+11</td>\n",
       "      <td>-107.000000</td>\n",
       "      <td>19545.000000</td>\n",
       "      <td>24878.000000</td>\n",
       "    </tr>\n",
       "    <tr>\n",
       "      <th>75%</th>\n",
       "      <td>1.595382e+15</td>\n",
       "      <td>1.418652e+11</td>\n",
       "      <td>607.000000</td>\n",
       "      <td>20164.000000</td>\n",
       "      <td>24970.000000</td>\n",
       "    </tr>\n",
       "    <tr>\n",
       "      <th>max</th>\n",
       "      <td>1.595383e+15</td>\n",
       "      <td>1.419333e+11</td>\n",
       "      <td>453555.000000</td>\n",
       "      <td>40744.000000</td>\n",
       "      <td>27121.000000</td>\n",
       "    </tr>\n",
       "  </tbody>\n",
       "</table>\n",
       "</div>"
      ],
      "text/plain": [
       "       __REALTIME_TIMESTAMP  __MONOTONIC_TIMESTAMP  Master Offset  \\\n",
       "count          2.730000e+02           2.730000e+02     273.000000   \n",
       "mean           1.595382e+15           1.417971e+11    3390.871795   \n",
       "std            7.901752e+07           7.901752e+07   38791.913546   \n",
       "min            1.595382e+15           1.416610e+11  -21752.000000   \n",
       "25%            1.595382e+15           1.417291e+11    -729.000000   \n",
       "50%            1.595382e+15           1.417971e+11    -107.000000   \n",
       "75%            1.595382e+15           1.418652e+11     607.000000   \n",
       "max            1.595383e+15           1.419333e+11  453555.000000   \n",
       "\n",
       "          Frequency    Path Delay  \n",
       "count    273.000000    273.000000  \n",
       "mean   19564.963370  24774.747253  \n",
       "std     4491.707441    743.586751  \n",
       "min    -2238.000000  20654.000000  \n",
       "25%    19033.000000  24755.000000  \n",
       "50%    19545.000000  24878.000000  \n",
       "75%    20164.000000  24970.000000  \n",
       "max    40744.000000  27121.000000  "
      ]
     },
     "execution_count": 20,
     "metadata": {},
     "output_type": "execute_result"
    }
   ],
   "source": [
    "finalDf.describe()"
   ]
  },
  {
   "cell_type": "code",
   "execution_count": 21,
   "metadata": {},
   "outputs": [
    {
     "name": "stdout",
     "output_type": "stream",
     "text": [
      "Csv file was created : /home/rtst15/AutoCheckTimeStamping/f_ipynb/ptpTime5min_1\n"
     ]
    }
   ],
   "source": [
    "# finalDf.to_csv('./%s.csv' %jsonfileName)\n",
    "\n",
    "print(\"Csv file was created :\",os.getcwd()+\"/%s\" %jsonfileName)"
   ]
  },
  {
   "cell_type": "code",
   "execution_count": null,
   "metadata": {},
   "outputs": [],
   "source": []
  }
 ],
 "metadata": {
  "kernelspec": {
   "display_name": "Python 3",
   "language": "python",
   "name": "python3"
  },
  "language_info": {
   "codemirror_mode": {
    "name": "ipython",
    "version": 3
   },
   "file_extension": ".py",
   "mimetype": "text/x-python",
   "name": "python",
   "nbconvert_exporter": "python",
   "pygments_lexer": "ipython3",
   "version": "3.6.9"
  }
 },
 "nbformat": 4,
 "nbformat_minor": 2
}
