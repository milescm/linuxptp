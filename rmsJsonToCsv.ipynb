{
 "cells": [
  {
   "cell_type": "code",
   "execution_count": 59,
   "metadata": {},
   "outputs": [],
   "source": [
    "import pandas as pd\n",
    "import json\n",
    "import os\n",
    "import datetime"
   ]
  },
  {
   "cell_type": "code",
   "execution_count": 60,
   "metadata": {},
   "outputs": [],
   "source": [
    "data = pd.read_json('/home/rtst15/AutoCheckTimeStamping/f_rms/rms5min_5.json', lines=True)"
   ]
  },
  {
   "cell_type": "code",
   "execution_count": 61,
   "metadata": {
    "scrolled": true
   },
   "outputs": [
    {
     "data": {
      "text/plain": [
       "pandas.core.frame.DataFrame"
      ]
     },
     "execution_count": 61,
     "metadata": {},
     "output_type": "execute_result"
    }
   ],
   "source": [
    "type(data)"
   ]
  },
  {
   "cell_type": "code",
   "execution_count": 62,
   "metadata": {},
   "outputs": [],
   "source": [
    "# drop the column 3\n",
    "\n",
    "data.drop(['_UID','SYSLOG_FACILITY','SYSLOG_IDENTIFIER','_GID','_COMM','_PID','_SOURCE_REALTIME_TIMESTAMP'], axis='columns', inplace=True)"
   ]
  },
  {
   "cell_type": "code",
   "execution_count": 63,
   "metadata": {},
   "outputs": [],
   "source": [
    "# drop the column 2\n",
    "\n",
    "data.drop(['_EXE', '_CMDLINE', '_CAP_EFFECTIVE','_SELINUX_CONTEXT','_AUDIT_SESSION','_AUDIT_LOGINUID', '_SYSTEMD_CGROUP','_SYSTEMD_UNIT', '_SYSTEMD_SLICE','PRIORITY' ], axis='columns', inplace=True)"
   ]
  },
  {
   "cell_type": "code",
   "execution_count": 64,
   "metadata": {},
   "outputs": [],
   "source": [
    "# drop the column : monotonic stamp\n",
    "\n",
    "data.drop(['__MONOTONIC_TIMESTAMP'], axis='columns', inplace=True)"
   ]
  },
  {
   "cell_type": "code",
   "execution_count": 65,
   "metadata": {
    "scrolled": true
   },
   "outputs": [],
   "source": [
    "# drop the column 1\n",
    "\n",
    "data.drop(['__CURSOR', '_BOOT_ID', '_TRANSPORT', '_SYSTEMD_INVOCATION_ID','_MACHINE_ID', '_HOSTNAME','_SYSTEMD_OWNER_UID','_SYSTEMD_USER_SLICE'], axis= 'columns', inplace=True)"
   ]
  },
  {
   "cell_type": "code",
   "execution_count": 66,
   "metadata": {
    "scrolled": true
   },
   "outputs": [],
   "source": [
    "# split log message\n",
    "\n",
    "null_list = []\n",
    "cnt=0\n",
    "for i in data['MESSAGE']:\n",
    "    if(i.split(' ')[0] ==''):\n",
    "        null_list.append(cnt)\n",
    "    cnt+=1"
   ]
  },
  {
   "cell_type": "code",
   "execution_count": 67,
   "metadata": {},
   "outputs": [],
   "source": [
    "# delete null message\n",
    "\n",
    "null_list\n",
    "\n",
    "data = data.drop(null_list)\n",
    "data = data.reset_index(drop=True)"
   ]
  },
  {
   "cell_type": "code",
   "execution_count": 68,
   "metadata": {
    "scrolled": true
   },
   "outputs": [],
   "source": [
    "# use try-catch for detecting error\n",
    "\n",
    "cnttt = 0\n",
    "a = []\n",
    "for i in data['MESSAGE']:\n",
    "    try:\n",
    "        i.split(' ')[1]\n",
    "    except:\n",
    "        print('this is error',cnttt)\n",
    "        a.append(cnttt)\n",
    "    cnttt+=1"
   ]
  },
  {
   "cell_type": "code",
   "execution_count": 69,
   "metadata": {},
   "outputs": [],
   "source": [
    "# delete error index\n",
    "\n",
    "data = data.drop(a)\n",
    "data = data.reset_index(drop=True)"
   ]
  },
  {
   "cell_type": "code",
   "execution_count": 70,
   "metadata": {
    "scrolled": false
   },
   "outputs": [],
   "source": [
    "# delete log message\n",
    "\n",
    "delete_list = []\n",
    "cntt=0\n",
    "\n",
    "for i in data['MESSAGE']:\n",
    "    if i.split(' ')[1] != \"rms\":\n",
    "        delete_list.append(cntt)\n",
    "    cntt+=1"
   ]
  },
  {
   "cell_type": "code",
   "execution_count": 71,
   "metadata": {},
   "outputs": [],
   "source": [
    "# delete log message \n",
    "\n",
    "data = data.drop(delete_list)\n",
    "data = data.reset_index(drop=True)"
   ]
  },
  {
   "cell_type": "code",
   "execution_count": 72,
   "metadata": {},
   "outputs": [],
   "source": [
    "# split log message for concat value\n",
    "\n",
    "delete_msg = []\n",
    "for i in data['MESSAGE']:\n",
    "    delete_msg.append(i.split())"
   ]
  },
  {
   "cell_type": "code",
   "execution_count": 73,
   "metadata": {},
   "outputs": [],
   "source": [
    "dm = pd.DataFrame(delete_msg)"
   ]
  },
  {
   "cell_type": "code",
   "execution_count": 74,
   "metadata": {},
   "outputs": [],
   "source": [
    "# concat offset, freq, delay\n",
    "\n",
    "rms_offset = pd.DataFrame(dm)[2]\n",
    "std_freq = pd.DataFrame(dm)[6]\n",
    "std_delay = pd.DataFrame(dm)[10]\n",
    "\n",
    "df = pd.concat([rms_offset,std_freq,std_delay], axis=1, keys=['Rms Offset','Std Freq', 'Std Delay'])\n"
   ]
  },
  {
   "cell_type": "code",
   "execution_count": 75,
   "metadata": {},
   "outputs": [],
   "source": [
    "# Convert Epoch time str:10\n",
    "\n",
    "hdate = []\n",
    "for i in data['__REALTIME_TIMESTAMP']:\n",
    "    s = str(i)\n",
    "    hdate.append(int(s[0:10]))\n",
    "data['__REALTIME_TIMESTAMP'] = hdate"
   ]
  },
  {
   "cell_type": "code",
   "execution_count": 76,
   "metadata": {},
   "outputs": [],
   "source": [
    "# datetime could get only integer as parameter\n",
    "\n",
    "dtime = pd.to_datetime(hdate, unit='s')\n",
    "minAndsec = dtime.strftime('%M:%S')\n",
    "\n",
    "# Add column UTC\n",
    "\n",
    "data['UTC'] = minAndsec"
   ]
  },
  {
   "cell_type": "code",
   "execution_count": 77,
   "metadata": {},
   "outputs": [],
   "source": [
    "finalDf = pd.concat([data['__REALTIME_TIMESTAMP'],data['UTC'],df], axis=1)"
   ]
  },
  {
   "cell_type": "code",
   "execution_count": 78,
   "metadata": {},
   "outputs": [],
   "source": [
    "# delete null row\n",
    "\n",
    "finalDf= finalDf.dropna(axis=0)"
   ]
  },
  {
   "cell_type": "code",
   "execution_count": 79,
   "metadata": {
    "scrolled": true
   },
   "outputs": [],
   "source": [
    "# convert pandas data to int\n",
    "\n",
    "finalDf = finalDf.astype({'__REALTIME_TIMESTAMP': 'int'})\n",
    "finalDf = finalDf.astype({'Rms Offset': 'int'})\n",
    "finalDf = finalDf.astype({'Std Freq': 'int'})\n",
    "finalDf = finalDf.astype({'Std Delay': 'int'})"
   ]
  },
  {
   "cell_type": "code",
   "execution_count": 80,
   "metadata": {},
   "outputs": [
    {
     "data": {
      "text/html": [
       "<div>\n",
       "<style scoped>\n",
       "    .dataframe tbody tr th:only-of-type {\n",
       "        vertical-align: middle;\n",
       "    }\n",
       "\n",
       "    .dataframe tbody tr th {\n",
       "        vertical-align: top;\n",
       "    }\n",
       "\n",
       "    .dataframe thead th {\n",
       "        text-align: right;\n",
       "    }\n",
       "</style>\n",
       "<table border=\"1\" class=\"dataframe\">\n",
       "  <thead>\n",
       "    <tr style=\"text-align: right;\">\n",
       "      <th></th>\n",
       "      <th>__REALTIME_TIMESTAMP</th>\n",
       "      <th>Rms Offset</th>\n",
       "      <th>Std Freq</th>\n",
       "      <th>Std Delay</th>\n",
       "    </tr>\n",
       "  </thead>\n",
       "  <tbody>\n",
       "    <tr>\n",
       "      <th>count</th>\n",
       "      <td>1.450000e+02</td>\n",
       "      <td>1.450000e+02</td>\n",
       "      <td>145.000000</td>\n",
       "      <td>145.000000</td>\n",
       "    </tr>\n",
       "    <tr>\n",
       "      <th>mean</th>\n",
       "      <td>1.598233e+09</td>\n",
       "      <td>1.109234e+06</td>\n",
       "      <td>36275.531034</td>\n",
       "      <td>5734.896552</td>\n",
       "    </tr>\n",
       "    <tr>\n",
       "      <th>std</th>\n",
       "      <td>8.400397e+01</td>\n",
       "      <td>1.335623e+07</td>\n",
       "      <td>94.793566</td>\n",
       "      <td>34.595625</td>\n",
       "    </tr>\n",
       "    <tr>\n",
       "      <th>min</th>\n",
       "      <td>1.598233e+09</td>\n",
       "      <td>7.000000e+00</td>\n",
       "      <td>36109.000000</td>\n",
       "      <td>5655.000000</td>\n",
       "    </tr>\n",
       "    <tr>\n",
       "      <th>25%</th>\n",
       "      <td>1.598233e+09</td>\n",
       "      <td>4.400000e+01</td>\n",
       "      <td>36206.000000</td>\n",
       "      <td>5706.000000</td>\n",
       "    </tr>\n",
       "    <tr>\n",
       "      <th>50%</th>\n",
       "      <td>1.598233e+09</td>\n",
       "      <td>5.500000e+01</td>\n",
       "      <td>36263.000000</td>\n",
       "      <td>5731.000000</td>\n",
       "    </tr>\n",
       "    <tr>\n",
       "      <th>75%</th>\n",
       "      <td>1.598233e+09</td>\n",
       "      <td>6.900000e+01</td>\n",
       "      <td>36338.000000</td>\n",
       "      <td>5753.000000</td>\n",
       "    </tr>\n",
       "    <tr>\n",
       "      <th>max</th>\n",
       "      <td>1.598233e+09</td>\n",
       "      <td>1.608304e+08</td>\n",
       "      <td>36563.000000</td>\n",
       "      <td>5871.000000</td>\n",
       "    </tr>\n",
       "  </tbody>\n",
       "</table>\n",
       "</div>"
      ],
      "text/plain": [
       "       __REALTIME_TIMESTAMP    Rms Offset      Std Freq    Std Delay\n",
       "count          1.450000e+02  1.450000e+02    145.000000   145.000000\n",
       "mean           1.598233e+09  1.109234e+06  36275.531034  5734.896552\n",
       "std            8.400397e+01  1.335623e+07     94.793566    34.595625\n",
       "min            1.598233e+09  7.000000e+00  36109.000000  5655.000000\n",
       "25%            1.598233e+09  4.400000e+01  36206.000000  5706.000000\n",
       "50%            1.598233e+09  5.500000e+01  36263.000000  5731.000000\n",
       "75%            1.598233e+09  6.900000e+01  36338.000000  5753.000000\n",
       "max            1.598233e+09  1.608304e+08  36563.000000  5871.000000"
      ]
     },
     "execution_count": 80,
     "metadata": {},
     "output_type": "execute_result"
    }
   ],
   "source": [
    "finalDf.describe()"
   ]
  },
  {
   "cell_type": "code",
   "execution_count": 81,
   "metadata": {
    "scrolled": true
   },
   "outputs": [],
   "source": [
    "# delete first value\n",
    "\n",
    "finalDf = finalDf.drop([0])\n",
    "finalDf = finalDf.reset_index(drop=True)"
   ]
  },
  {
   "cell_type": "code",
   "execution_count": 82,
   "metadata": {},
   "outputs": [],
   "source": [
    "finalDf.to_csv('/home/rtst15/AutoCheckTimeStamping/f_csv_rms/rms_5min_5.csv')"
   ]
  },
  {
   "cell_type": "code",
   "execution_count": null,
   "metadata": {},
   "outputs": [],
   "source": []
  }
 ],
 "metadata": {
  "kernelspec": {
   "display_name": "Python 3",
   "language": "python",
   "name": "python3"
  },
  "language_info": {
   "codemirror_mode": {
    "name": "ipython",
    "version": 3
   },
   "file_extension": ".py",
   "mimetype": "text/x-python",
   "name": "python",
   "nbconvert_exporter": "python",
   "pygments_lexer": "ipython3",
   "version": "3.6.9"
  }
 },
 "nbformat": 4,
 "nbformat_minor": 4
}
